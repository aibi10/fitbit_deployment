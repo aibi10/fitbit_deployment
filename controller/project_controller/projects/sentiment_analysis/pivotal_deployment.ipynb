{
 "cells": [
  {
   "cell_type": "markdown",
   "metadata": {},
   "source": [
    "<img src=\"1.PNG\">\n",
    "\n",
    "\n",
    "<img src=\"2.PNG\">"
   ]
  },
  {
   "cell_type": "markdown",
   "metadata": {},
   "source": [
    "Now, go back to your python code and make some custom changes to make it ready for cloud deployment.\n",
    "\n",
    "Create a file called \"manifest.yml\" and put following content into it:\n",
    "    \n",
    "<img src=\"4.PNG\">"
   ]
  },
  {
   "cell_type": "markdown",
   "metadata": {},
   "source": [
    "Create a 'Procfile' which contains the info about the entry point to your app.\n",
    "My project contains below contents :\n",
    "<img src=\"6.PNG\">"
   ]
  },
  {
   "cell_type": "markdown",
   "metadata": {},
   "source": [
    "Create a file called \"runtime.txt\" which has information about application runtime.\n",
    "\n",
    "<img src=\"8.PNG\">\n"
   ]
  },
  {
   "cell_type": "markdown",
   "metadata": {},
   "source": [
    "After making relevant changes. Go to the path of your project using \"cd\" command.\n",
    "Then, just give command \"cf-push\". It will push your code to pivotal cloud.\n",
    "\n",
    "<img src=\"10.PNG\">\n",
    "\n",
    "\n",
    "Once the push is completed, you will se following details on your screen. The link in red brackets is the link for your project that you have pushed. You can use the link to call the project from your local using postman.\n",
    "\n",
    "<img src=\"9.PNG\">\n",
    "\n",
    "\n",
    "\n"
   ]
  },
  {
   "cell_type": "code",
   "execution_count": null,
   "metadata": {},
   "outputs": [],
   "source": []
  }
 ],
 "metadata": {
  "kernelspec": {
   "display_name": "Python 3",
   "language": "python",
   "name": "python3"
  },
  "language_info": {
   "codemirror_mode": {
    "name": "ipython",
    "version": 3
   },
   "file_extension": ".py",
   "mimetype": "text/x-python",
   "name": "python",
   "nbconvert_exporter": "python",
   "pygments_lexer": "ipython3",
   "version": "3.7.4"
  }
 },
 "nbformat": 4,
 "nbformat_minor": 4
}
